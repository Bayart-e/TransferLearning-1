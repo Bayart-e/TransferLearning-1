{
 "cells": [
  {
   "cell_type": "markdown",
   "id": "4dcc020c",
   "metadata": {},
   "source": [
    "## Group Images after Cropping\n",
    "\n",
    "* Place this notebook in the same folder where \"runs\" is located after cropping.\n",
    "\n",
    "This script goes after the cropping notebook, and before matching to the SkyScan ADS-B database.\n",
    "\n",
    "It generates a dataset in the form:\n",
    "\n",
    "output/detected/\n",
    "\n",
    "* class1\n",
    "* class2\n",
    "* etc\n",
    "\n"
   ]
  },
  {
   "cell_type": "code",
   "execution_count": 81,
   "id": "e5a39159",
   "metadata": {},
   "outputs": [],
   "source": [
    "################################################\n",
    "##\n",
    "## Object Detection\n",
    "##\n",
    "################################################\n",
    "\n",
    "import torch\n",
    "import numpy as np\n",
    "import math\n",
    "import os\n",
    "import shutil\n",
    "\n",
    "#######################################################\n",
    "\n",
    "np.set_printoptions(suppress=True)\n",
    "torch.set_printoptions(sci_mode=False)\n",
    "\n",
    "#######################################################"
   ]
  },
  {
   "cell_type": "code",
   "execution_count": 82,
   "id": "23228c28",
   "metadata": {},
   "outputs": [],
   "source": [
    "output_path = \"output/detected/\"\n",
    "\n",
    "if not os.path.exists(output_path):\n",
    "    os.makedirs(output_path)\n"
   ]
  },
  {
   "cell_type": "code",
   "execution_count": 83,
   "id": "fd17ec82",
   "metadata": {},
   "outputs": [],
   "source": [
    "\n",
    "\n",
    "def getAllFiles(path):\n",
    "    \n",
    "    list_classes = []\n",
    "    \n",
    "    for root, dirs, files in os.walk(path):\n",
    "        for name in files:\n",
    "            full_path = os.path.join(root,name)\n",
    "            if \"crops\" in full_path and \".jpg\" in full_path:\n",
    "                temp_list = full_path.split(\"/crops/\")\n",
    "               \n",
    "                temp_classes = temp_list[1].split(\"/\")\n",
    "                if temp_classes[0] not in list_classes:\n",
    "                    class_folder = temp_classes[0]\n",
    "                    list_classes.append(class_folder)\n",
    "                    if not os.path.exists(output_path + class_folder):\n",
    "                        os.mkdir(output_path + class_folder)\n",
    "                \n",
    "                target = output_path + temp_list[1]\n",
    "                shutil.copy(full_path, target)\n",
    "                print(target)\n",
    "     \n",
    "\n"
   ]
  },
  {
   "cell_type": "code",
   "execution_count": 84,
   "id": "f3d286d2",
   "metadata": {},
   "outputs": [
    {
     "name": "stdout",
     "output_type": "stream",
     "text": [
      "output/detected/airplane/object675.jpg\n",
      "output/detected/kite/object675.jpg\n",
      "output/detected/airplane/plane3.jpg\n",
      "output/detected/airplane/plane3.jpg\n",
      "output/detected/boat/obj5.jpg\n",
      "output/detected/airplane/obj5.jpg\n",
      "output/detected/airplane/obj52.jpg\n",
      "output/detected/airplane/plane2.jpg\n",
      "output/detected/airplane/sample.jpg\n",
      "output/detected/airplane/plane737.jpg\n",
      "output/detected/airplane/plane1.jpg\n",
      "output/detected/airplane/plane2.jpg\n",
      "output/detected/airplane/object4.jpg\n",
      "output/detected/airplane/plane1.jpg\n"
     ]
    }
   ],
   "source": [
    "getAllFiles(\"runs/\")"
   ]
  },
  {
   "cell_type": "code",
   "execution_count": null,
   "id": "2358de51",
   "metadata": {},
   "outputs": [],
   "source": []
  },
  {
   "cell_type": "code",
   "execution_count": null,
   "id": "afe861be",
   "metadata": {},
   "outputs": [],
   "source": []
  }
 ],
 "metadata": {
  "kernelspec": {
   "display_name": "Python 3 (ipykernel)",
   "language": "python",
   "name": "python3"
  },
  "language_info": {
   "codemirror_mode": {
    "name": "ipython",
    "version": 3
   },
   "file_extension": ".py",
   "mimetype": "text/x-python",
   "name": "python",
   "nbconvert_exporter": "python",
   "pygments_lexer": "ipython3",
   "version": "3.8.13"
  }
 },
 "nbformat": 4,
 "nbformat_minor": 5
}
