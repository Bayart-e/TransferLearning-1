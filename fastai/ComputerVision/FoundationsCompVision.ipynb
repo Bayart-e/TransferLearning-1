{
 "cells": [
  {
   "cell_type": "code",
   "execution_count": 62,
   "id": "c890c568",
   "metadata": {},
   "outputs": [
    {
     "name": "stdout",
     "output_type": "stream",
     "text": [
      "[Path('/home/maquina1/.fastai/data/mnist_sample/train'), Path('/home/maquina1/.fastai/data/mnist_sample/valid'), Path('/home/maquina1/.fastai/data/mnist_sample/labels.csv')]\n"
     ]
    }
   ],
   "source": [
    "## MNIST\n",
    "\n",
    "from fastai.vision.all import *\n",
    "import numpy as np\n",
    "\n",
    "\n",
    "##################################\n",
    "\n",
    "## not the full MNIST. Just classes 7 and 3\n",
    "\n",
    "path = untar_data(URLs.MNIST_SAMPLE)\n",
    "\n",
    "print(   path.ls()   )\n"
   ]
  },
  {
   "cell_type": "code",
   "execution_count": 63,
   "id": "97730080",
   "metadata": {},
   "outputs": [
    {
     "name": "stdout",
     "output_type": "stream",
     "text": [
      "[Path('/home/maquina1/.fastai/data/mnist_sample/train/7'), Path('/home/maquina1/.fastai/data/mnist_sample/train/3')]\n"
     ]
    }
   ],
   "source": [
    "print(  (path/'train').ls()   )"
   ]
  },
  {
   "cell_type": "code",
   "execution_count": 64,
   "id": "b44dcc48",
   "metadata": {},
   "outputs": [
    {
     "data": {
      "image/png": "[encoded data removed]",
      "text/plain": [
       "<PIL.PngImagePlugin.PngImageFile image mode=L size=28x28 at 0x7F77FDD19210>"
      ]
     },
     "execution_count": 64,
     "metadata": {},
     "output_type": "execute_result"
    }
   ],
   "source": [
    "threes = (path/'train'/'3').ls().sorted()\n",
    "sevens = (path/'train'/'7').ls().sorted()\n",
    "\n",
    "##print(  threes  )\n",
    "\n",
    "im3_path = threes[1]\n",
    "\n",
    "## uses PIL\n",
    "\n",
    "im3 = Image.open(im3_path)\n",
    "\n",
    "im3  "
   ]
  },
  {
   "cell_type": "code",
   "execution_count": 65,
   "id": "046917b8",
   "metadata": {},
   "outputs": [
    {
     "name": "stdout",
     "output_type": "stream",
     "text": [
      "[[  0   0   0   0   0   0]\n",
      " [  0   0   0   0   0  29]\n",
      " [  0   0   0  48 166 224]\n",
      " [  0  93 244 249 253 187]\n",
      " [  0 107 253 253 230  48]\n",
      " [  0   3  20  20  15   0]]\n"
     ]
    }
   ],
   "source": [
    "## LOOKING at the image as a numpy array and PyTorch tensor\n",
    "\n",
    "print(    np.array(im3)[4:10, 4:10]     )"
   ]
  },
  {
   "cell_type": "code",
   "execution_count": 66,
   "id": "e38c9c4d",
   "metadata": {},
   "outputs": [
    {
     "data": {
      "text/plain": [
       "tensor([[  0,   0,   0,   0,   0,   0],\n",
       "        [  0,   0,   0,   0,   0,  29],\n",
       "        [  0,   0,   0,  48, 166, 224],\n",
       "        [  0,  93, 244, 249, 253, 187],\n",
       "        [  0, 107, 253, 253, 230,  48],\n",
       "        [  0,   3,  20,  20,  15,   0]], dtype=torch.uint8)"
      ]
     },
     "execution_count": 66,
     "metadata": {},
     "output_type": "execute_result"
    }
   ],
   "source": [
    "tensor(im3)[4:10, 4:10]"
   ]
  },
  {
   "cell_type": "code",
   "execution_count": 67,
   "id": "f0c98107",
   "metadata": {},
   "outputs": [
    {
     "data": {
      "text/html": [
       "<style type=\"text/css\">\n",
       "#T_aae70_row0_col0, #T_aae70_row0_col1, #T_aae70_row0_col2, #T_aae70_row0_col3, #T_aae70_row0_col4, #T_aae70_row0_col5, #T_aae70_row0_col6, #T_aae70_row0_col7, #T_aae70_row0_col8, #T_aae70_row0_col9, #T_aae70_row0_col10, #T_aae70_row0_col11, #T_aae70_row0_col12, #T_aae70_row0_col13, #T_aae70_row0_col14, #T_aae70_row0_col15, #T_aae70_row0_col16, #T_aae70_row0_col17, #T_aae70_row1_col0, #T_aae70_row1_col1, #T_aae70_row1_col2, #T_aae70_row1_col3, #T_aae70_row1_col4, #T_aae70_row1_col15, #T_aae70_row1_col16, #T_aae70_row1_col17, #T_aae70_row2_col0, #T_aae70_row2_col1, #T_aae70_row2_col2, #T_aae70_row2_col15, #T_aae70_row2_col16, #T_aae70_row2_col17, #T_aae70_row3_col0, #T_aae70_row3_col15, #T_aae70_row3_col16, #T_aae70_row3_col17, #T_aae70_row4_col0, #T_aae70_row4_col6, #T_aae70_row4_col7, #T_aae70_row4_col8, #T_aae70_row4_col9, #T_aae70_row4_col10, #T_aae70_row4_col15, #T_aae70_row4_col16, #T_aae70_row4_col17, #T_aae70_row5_col0, #T_aae70_row5_col5, #T_aae70_row5_col6, #T_aae70_row5_col7, #T_aae70_row5_col8, #T_aae70_row5_col9, #T_aae70_row5_col15, #T_aae70_row5_col16, #T_aae70_row5_col17, #T_aae70_row6_col0, #T_aae70_row6_col1, #T_aae70_row6_col2, #T_aae70_row6_col3, #T_aae70_row6_col4, #T_aae70_row6_col5, #T_aae70_row6_col6, #T_aae70_row6_col7, #T_aae70_row6_col8, #T_aae70_row6_col9, #T_aae70_row6_col14, #T_aae70_row6_col15, #T_aae70_row6_col16, #T_aae70_row6_col17, #T_aae70_row7_col0, #T_aae70_row7_col1, #T_aae70_row7_col2, #T_aae70_row7_col3, #T_aae70_row7_col4, #T_aae70_row7_col5, #T_aae70_row7_col6, #T_aae70_row7_col13, #T_aae70_row7_col14, #T_aae70_row7_col15, #T_aae70_row7_col16, #T_aae70_row7_col17, #T_aae70_row8_col0, #T_aae70_row8_col1, #T_aae70_row8_col2, #T_aae70_row8_col3, #T_aae70_row8_col4, #T_aae70_row8_col13, #T_aae70_row8_col14, #T_aae70_row8_col15, #T_aae70_row8_col16, #T_aae70_row8_col17, #T_aae70_row9_col0, #T_aae70_row9_col1, #T_aae70_row9_col2, #T_aae70_row9_col3, #T_aae70_row9_col4, #T_aae70_row9_col16, #T_aae70_row9_col17, #T_aae70_row10_col0, #T_aae70_row10_col1, #T_aae70_row10_col2, #T_aae70_row10_col3, #T_aae70_row10_col4, #T_aae70_row10_col5, #T_aae70_row10_col6, #T_aae70_row10_col17 {\n",
       "  font-size: 6pt;\n",
       "  background-color: #ffffff;\n",
       "  color: #000000;\n",
       "}\n",
       "#T_aae70_row1_col5 {\n",
       "  font-size: 6pt;\n",
       "  background-color: #efefef;\n",
       "  color: #000000;\n",
       "}\n",
       "#T_aae70_row1_col6, #T_aae70_row1_col13 {\n",
       "  font-size: 6pt;\n",
       "  background-color: #7c7c7c;\n",
       "  color: #f1f1f1;\n",
       "}\n",
       "#T_aae70_row1_col7 {\n",
       "  font-size: 6pt;\n",
       "  background-color: #4a4a4a;\n",
       "  color: #f1f1f1;\n",
       "}\n",
       "#T_aae70_row1_col8, #T_aae70_row1_col9, #T_aae70_row1_col10, #T_aae70_row2_col5, #T_aae70_row2_col6, #T_aae70_row2_col7, #T_aae70_row2_col11, #T_aae70_row2_col12, #T_aae70_row2_col13, #T_aae70_row3_col4, #T_aae70_row3_col12, #T_aae70_row3_col13, #T_aae70_row4_col1, #T_aae70_row4_col2, #T_aae70_row4_col3, #T_aae70_row4_col12, #T_aae70_row4_col13, #T_aae70_row5_col12, #T_aae70_row6_col11, #T_aae70_row9_col11, #T_aae70_row10_col11, #T_aae70_row10_col12, #T_aae70_row10_col13, #T_aae70_row10_col14, #T_aae70_row10_col15, #T_aae70_row10_col16 {\n",
       "  font-size: 6pt;\n",
       "  background-color: #000000;\n",
       "  color: #f1f1f1;\n",
       "}\n",
       "#T_aae70_row1_col11 {\n",
       "  font-size: 6pt;\n",
       "  background-color: #606060;\n",
       "  color: #f1f1f1;\n",
       "}\n",
       "#T_aae70_row1_col12 {\n",
       "  font-size: 6pt;\n",
       "  background-color: #4d4d4d;\n",
       "  color: #f1f1f1;\n",
       "}\n",
       "#T_aae70_row1_col14 {\n",
       "  font-size: 6pt;\n",
       "  background-color: #bbbbbb;\n",
       "  color: #000000;\n",
       "}\n",
       "#T_aae70_row2_col3 {\n",
       "  font-size: 6pt;\n",
       "  background-color: #e4e4e4;\n",
       "  color: #000000;\n",
       "}\n",
       "#T_aae70_row2_col4, #T_aae70_row8_col6 {\n",
       "  font-size: 6pt;\n",
       "  background-color: #6b6b6b;\n",
       "  color: #f1f1f1;\n",
       "}\n",
       "#T_aae70_row2_col8, #T_aae70_row2_col14, #T_aae70_row3_col14 {\n",
       "  font-size: 6pt;\n",
       "  background-color: #171717;\n",
       "  color: #f1f1f1;\n",
       "}\n",
       "#T_aae70_row2_col9, #T_aae70_row3_col11 {\n",
       "  font-size: 6pt;\n",
       "  background-color: #4b4b4b;\n",
       "  color: #f1f1f1;\n",
       "}\n",
       "#T_aae70_row2_col10, #T_aae70_row7_col10, #T_aae70_row8_col8, #T_aae70_row8_col10, #T_aae70_row9_col8, #T_aae70_row9_col10 {\n",
       "  font-size: 6pt;\n",
       "  background-color: #010101;\n",
       "  color: #f1f1f1;\n",
       "}\n",
       "#T_aae70_row3_col1 {\n",
       "  font-size: 6pt;\n",
       "  background-color: #272727;\n",
       "  color: #f1f1f1;\n",
       "}\n",
       "#T_aae70_row3_col2 {\n",
       "  font-size: 6pt;\n",
       "  background-color: #0a0a0a;\n",
       "  color: #f1f1f1;\n",
       "}\n",
       "#T_aae70_row3_col3 {\n",
       "  font-size: 6pt;\n",
       "  background-color: #050505;\n",
       "  color: #f1f1f1;\n",
       "}\n",
       "#T_aae70_row3_col5 {\n",
       "  font-size: 6pt;\n",
       "  background-color: #333333;\n",
       "  color: #f1f1f1;\n",
       "}\n",
       "#T_aae70_row3_col6 {\n",
       "  font-size: 6pt;\n",
       "  background-color: #e6e6e6;\n",
       "  color: #000000;\n",
       "}\n",
       "#T_aae70_row3_col7, #T_aae70_row3_col10 {\n",
       "  font-size: 6pt;\n",
       "  background-color: #fafafa;\n",
       "  color: #000000;\n",
       "}\n",
       "#T_aae70_row3_col8 {\n",
       "  font-size: 6pt;\n",
       "  background-color: #fbfbfb;\n",
       "  color: #000000;\n",
       "}\n",
       "#T_aae70_row3_col9 {\n",
       "  font-size: 6pt;\n",
       "  background-color: #fdfdfd;\n",
       "  color: #000000;\n",
       "}\n",
       "#T_aae70_row4_col4 {\n",
       "  font-size: 6pt;\n",
       "  background-color: #1b1b1b;\n",
       "  color: #f1f1f1;\n",
       "}\n",
       "#T_aae70_row4_col5 {\n",
       "  font-size: 6pt;\n",
       "  background-color: #e0e0e0;\n",
       "  color: #000000;\n",
       "}\n",
       "#T_aae70_row4_col11 {\n",
       "  font-size: 6pt;\n",
       "  background-color: #4e4e4e;\n",
       "  color: #f1f1f1;\n",
       "}\n",
       "#T_aae70_row4_col14 {\n",
       "  font-size: 6pt;\n",
       "  background-color: #767676;\n",
       "  color: #f1f1f1;\n",
       "}\n",
       "#T_aae70_row5_col1 {\n",
       "  font-size: 6pt;\n",
       "  background-color: #fcfcfc;\n",
       "  color: #000000;\n",
       "}\n",
       "#T_aae70_row5_col2, #T_aae70_row5_col3 {\n",
       "  font-size: 6pt;\n",
       "  background-color: #f6f6f6;\n",
       "  color: #000000;\n",
       "}\n",
       "#T_aae70_row5_col4, #T_aae70_row7_col7 {\n",
       "  font-size: 6pt;\n",
       "  background-color: #f8f8f8;\n",
       "  color: #000000;\n",
       "}\n",
       "#T_aae70_row5_col10, #T_aae70_row10_col7 {\n",
       "  font-size: 6pt;\n",
       "  background-color: #e8e8e8;\n",
       "  color: #000000;\n",
       "}\n",
       "#T_aae70_row5_col11 {\n",
       "  font-size: 6pt;\n",
       "  background-color: #222222;\n",
       "  color: #f1f1f1;\n",
       "}\n",
       "#T_aae70_row5_col13, #T_aae70_row6_col12 {\n",
       "  font-size: 6pt;\n",
       "  background-color: #090909;\n",
       "  color: #f1f1f1;\n",
       "}\n",
       "#T_aae70_row5_col14 {\n",
       "  font-size: 6pt;\n",
       "  background-color: #d0d0d0;\n",
       "  color: #000000;\n",
       "}\n",
       "#T_aae70_row6_col10, #T_aae70_row7_col11, #T_aae70_row9_col6 {\n",
       "  font-size: 6pt;\n",
       "  background-color: #060606;\n",
       "  color: #f1f1f1;\n",
       "}\n",
       "#T_aae70_row6_col13 {\n",
       "  font-size: 6pt;\n",
       "  background-color: #979797;\n",
       "  color: #f1f1f1;\n",
       "}\n",
       "#T_aae70_row7_col8 {\n",
       "  font-size: 6pt;\n",
       "  background-color: #b6b6b6;\n",
       "  color: #000000;\n",
       "}\n",
       "#T_aae70_row7_col9 {\n",
       "  font-size: 6pt;\n",
       "  background-color: #252525;\n",
       "  color: #f1f1f1;\n",
       "}\n",
       "#T_aae70_row7_col12 {\n",
       "  font-size: 6pt;\n",
       "  background-color: #999999;\n",
       "  color: #f1f1f1;\n",
       "}\n",
       "#T_aae70_row8_col5 {\n",
       "  font-size: 6pt;\n",
       "  background-color: #f9f9f9;\n",
       "  color: #000000;\n",
       "}\n",
       "#T_aae70_row8_col7 {\n",
       "  font-size: 6pt;\n",
       "  background-color: #101010;\n",
       "  color: #f1f1f1;\n",
       "}\n",
       "#T_aae70_row8_col9, #T_aae70_row9_col9 {\n",
       "  font-size: 6pt;\n",
       "  background-color: #020202;\n",
       "  color: #f1f1f1;\n",
       "}\n",
       "#T_aae70_row8_col11 {\n",
       "  font-size: 6pt;\n",
       "  background-color: #545454;\n",
       "  color: #f1f1f1;\n",
       "}\n",
       "#T_aae70_row8_col12 {\n",
       "  font-size: 6pt;\n",
       "  background-color: #f1f1f1;\n",
       "  color: #000000;\n",
       "}\n",
       "#T_aae70_row9_col5 {\n",
       "  font-size: 6pt;\n",
       "  background-color: #f7f7f7;\n",
       "  color: #000000;\n",
       "}\n",
       "#T_aae70_row9_col7 {\n",
       "  font-size: 6pt;\n",
       "  background-color: #030303;\n",
       "  color: #f1f1f1;\n",
       "}\n",
       "#T_aae70_row9_col12 {\n",
       "  font-size: 6pt;\n",
       "  background-color: #181818;\n",
       "  color: #f1f1f1;\n",
       "}\n",
       "#T_aae70_row9_col13 {\n",
       "  font-size: 6pt;\n",
       "  background-color: #303030;\n",
       "  color: #f1f1f1;\n",
       "}\n",
       "#T_aae70_row9_col14 {\n",
       "  font-size: 6pt;\n",
       "  background-color: #a9a9a9;\n",
       "  color: #f1f1f1;\n",
       "}\n",
       "#T_aae70_row9_col15 {\n",
       "  font-size: 6pt;\n",
       "  background-color: #fefefe;\n",
       "  color: #000000;\n",
       "}\n",
       "#T_aae70_row10_col8, #T_aae70_row10_col9 {\n",
       "  font-size: 6pt;\n",
       "  background-color: #bababa;\n",
       "  color: #000000;\n",
       "}\n",
       "#T_aae70_row10_col10 {\n",
       "  font-size: 6pt;\n",
       "  background-color: #393939;\n",
       "  color: #f1f1f1;\n",
       "}\n",
       "</style>\n",
       "<table id=\"T_aae70_\">\n",
       "  <thead>\n",
       "    <tr>\n",
       "      <th class=\"blank level0\" >&nbsp;</th>\n",
       "      <th class=\"col_heading level0 col0\" >0</th>\n",
       "      <th class=\"col_heading level0 col1\" >1</th>\n",
       "      <th class=\"col_heading level0 col2\" >2</th>\n",
       "      <th class=\"col_heading level0 col3\" >3</th>\n",
       "      <th class=\"col_heading level0 col4\" >4</th>\n",
       "      <th class=\"col_heading level0 col5\" >5</th>\n",
       "      <th class=\"col_heading level0 col6\" >6</th>\n",
       "      <th class=\"col_heading level0 col7\" >7</th>\n",
       "      <th class=\"col_heading level0 col8\" >8</th>\n",
       "      <th class=\"col_heading level0 col9\" >9</th>\n",
       "      <th class=\"col_heading level0 col10\" >10</th>\n",
       "      <th class=\"col_heading level0 col11\" >11</th>\n",
       "      <th class=\"col_heading level0 col12\" >12</th>\n",
       "      <th class=\"col_heading level0 col13\" >13</th>\n",
       "      <th class=\"col_heading level0 col14\" >14</th>\n",
       "      <th class=\"col_heading level0 col15\" >15</th>\n",
       "      <th class=\"col_heading level0 col16\" >16</th>\n",
       "      <th class=\"col_heading level0 col17\" >17</th>\n",
       "    </tr>\n",
       "  </thead>\n",
       "  <tbody>\n",
       "    <tr>\n",
       "      <th id=\"T_aae70_level0_row0\" class=\"row_heading level0 row0\" >0</th>\n",
       "      <td id=\"T_aae70_row0_col0\" class=\"data row0 col0\" >0</td>\n",
       "      <td id=\"T_aae70_row0_col1\" class=\"data row0 col1\" >0</td>\n",
       "      <td id=\"T_aae70_row0_col2\" class=\"data row0 col2\" >0</td>\n",
       "      <td id=\"T_aae70_row0_col3\" class=\"data row0 col3\" >0</td>\n",
       "      <td id=\"T_aae70_row0_col4\" class=\"data row0 col4\" >0</td>\n",
       "      <td id=\"T_aae70_row0_col5\" class=\"data row0 col5\" >0</td>\n",
       "      <td id=\"T_aae70_row0_col6\" class=\"data row0 col6\" >0</td>\n",
       "      <td id=\"T_aae70_row0_col7\" class=\"data row0 col7\" >0</td>\n",
       "      <td id=\"T_aae70_row0_col8\" class=\"data row0 col8\" >0</td>\n",
       "      <td id=\"T_aae70_row0_col9\" class=\"data row0 col9\" >0</td>\n",
       "      <td id=\"T_aae70_row0_col10\" class=\"data row0 col10\" >0</td>\n",
       "      <td id=\"T_aae70_row0_col11\" class=\"data row0 col11\" >0</td>\n",
       "      <td id=\"T_aae70_row0_col12\" class=\"data row0 col12\" >0</td>\n",
       "      <td id=\"T_aae70_row0_col13\" class=\"data row0 col13\" >0</td>\n",
       "      <td id=\"T_aae70_row0_col14\" class=\"data row0 col14\" >0</td>\n",
       "      <td id=\"T_aae70_row0_col15\" class=\"data row0 col15\" >0</td>\n",
       "      <td id=\"T_aae70_row0_col16\" class=\"data row0 col16\" >0</td>\n",
       "      <td id=\"T_aae70_row0_col17\" class=\"data row0 col17\" >0</td>\n",
       "    </tr>\n",
       "    <tr>\n",
       "      <th id=\"T_aae70_level0_row1\" class=\"row_heading level0 row1\" >1</th>\n",
       "      <td id=\"T_aae70_row1_col0\" class=\"data row1 col0\" >0</td>\n",
       "      <td id=\"T_aae70_row1_col1\" class=\"data row1 col1\" >0</td>\n",
       "      <td id=\"T_aae70_row1_col2\" class=\"data row1 col2\" >0</td>\n",
       "      <td id=\"T_aae70_row1_col3\" class=\"data row1 col3\" >0</td>\n",
       "      <td id=\"T_aae70_row1_col4\" class=\"data row1 col4\" >0</td>\n",
       "      <td id=\"T_aae70_row1_col5\" class=\"data row1 col5\" >29</td>\n",
       "      <td id=\"T_aae70_row1_col6\" class=\"data row1 col6\" >150</td>\n",
       "      <td id=\"T_aae70_row1_col7\" class=\"data row1 col7\" >195</td>\n",
       "      <td id=\"T_aae70_row1_col8\" class=\"data row1 col8\" >254</td>\n",
       "      <td id=\"T_aae70_row1_col9\" class=\"data row1 col9\" >255</td>\n",
       "      <td id=\"T_aae70_row1_col10\" class=\"data row1 col10\" >254</td>\n",
       "      <td id=\"T_aae70_row1_col11\" class=\"data row1 col11\" >176</td>\n",
       "      <td id=\"T_aae70_row1_col12\" class=\"data row1 col12\" >193</td>\n",
       "      <td id=\"T_aae70_row1_col13\" class=\"data row1 col13\" >150</td>\n",
       "      <td id=\"T_aae70_row1_col14\" class=\"data row1 col14\" >96</td>\n",
       "      <td id=\"T_aae70_row1_col15\" class=\"data row1 col15\" >0</td>\n",
       "      <td id=\"T_aae70_row1_col16\" class=\"data row1 col16\" >0</td>\n",
       "      <td id=\"T_aae70_row1_col17\" class=\"data row1 col17\" >0</td>\n",
       "    </tr>\n",
       "    <tr>\n",
       "      <th id=\"T_aae70_level0_row2\" class=\"row_heading level0 row2\" >2</th>\n",
       "      <td id=\"T_aae70_row2_col0\" class=\"data row2 col0\" >0</td>\n",
       "      <td id=\"T_aae70_row2_col1\" class=\"data row2 col1\" >0</td>\n",
       "      <td id=\"T_aae70_row2_col2\" class=\"data row2 col2\" >0</td>\n",
       "      <td id=\"T_aae70_row2_col3\" class=\"data row2 col3\" >48</td>\n",
       "      <td id=\"T_aae70_row2_col4\" class=\"data row2 col4\" >166</td>\n",
       "      <td id=\"T_aae70_row2_col5\" class=\"data row2 col5\" >224</td>\n",
       "      <td id=\"T_aae70_row2_col6\" class=\"data row2 col6\" >253</td>\n",
       "      <td id=\"T_aae70_row2_col7\" class=\"data row2 col7\" >253</td>\n",
       "      <td id=\"T_aae70_row2_col8\" class=\"data row2 col8\" >234</td>\n",
       "      <td id=\"T_aae70_row2_col9\" class=\"data row2 col9\" >196</td>\n",
       "      <td id=\"T_aae70_row2_col10\" class=\"data row2 col10\" >253</td>\n",
       "      <td id=\"T_aae70_row2_col11\" class=\"data row2 col11\" >253</td>\n",
       "      <td id=\"T_aae70_row2_col12\" class=\"data row2 col12\" >253</td>\n",
       "      <td id=\"T_aae70_row2_col13\" class=\"data row2 col13\" >253</td>\n",
       "      <td id=\"T_aae70_row2_col14\" class=\"data row2 col14\" >233</td>\n",
       "      <td id=\"T_aae70_row2_col15\" class=\"data row2 col15\" >0</td>\n",
       "      <td id=\"T_aae70_row2_col16\" class=\"data row2 col16\" >0</td>\n",
       "      <td id=\"T_aae70_row2_col17\" class=\"data row2 col17\" >0</td>\n",
       "    </tr>\n",
       "    <tr>\n",
       "      <th id=\"T_aae70_level0_row3\" class=\"row_heading level0 row3\" >3</th>\n",
       "      <td id=\"T_aae70_row3_col0\" class=\"data row3 col0\" >0</td>\n",
       "      <td id=\"T_aae70_row3_col1\" class=\"data row3 col1\" >93</td>\n",
       "      <td id=\"T_aae70_row3_col2\" class=\"data row3 col2\" >244</td>\n",
       "      <td id=\"T_aae70_row3_col3\" class=\"data row3 col3\" >249</td>\n",
       "      <td id=\"T_aae70_row3_col4\" class=\"data row3 col4\" >253</td>\n",
       "      <td id=\"T_aae70_row3_col5\" class=\"data row3 col5\" >187</td>\n",
       "      <td id=\"T_aae70_row3_col6\" class=\"data row3 col6\" >46</td>\n",
       "      <td id=\"T_aae70_row3_col7\" class=\"data row3 col7\" >10</td>\n",
       "      <td id=\"T_aae70_row3_col8\" class=\"data row3 col8\" >8</td>\n",
       "      <td id=\"T_aae70_row3_col9\" class=\"data row3 col9\" >4</td>\n",
       "      <td id=\"T_aae70_row3_col10\" class=\"data row3 col10\" >10</td>\n",
       "      <td id=\"T_aae70_row3_col11\" class=\"data row3 col11\" >194</td>\n",
       "      <td id=\"T_aae70_row3_col12\" class=\"data row3 col12\" >253</td>\n",
       "      <td id=\"T_aae70_row3_col13\" class=\"data row3 col13\" >253</td>\n",
       "      <td id=\"T_aae70_row3_col14\" class=\"data row3 col14\" >233</td>\n",
       "      <td id=\"T_aae70_row3_col15\" class=\"data row3 col15\" >0</td>\n",
       "      <td id=\"T_aae70_row3_col16\" class=\"data row3 col16\" >0</td>\n",
       "      <td id=\"T_aae70_row3_col17\" class=\"data row3 col17\" >0</td>\n",
       "    </tr>\n",
       "    <tr>\n",
       "      <th id=\"T_aae70_level0_row4\" class=\"row_heading level0 row4\" >4</th>\n",
       "      <td id=\"T_aae70_row4_col0\" class=\"data row4 col0\" >0</td>\n",
       "      <td id=\"T_aae70_row4_col1\" class=\"data row4 col1\" >107</td>\n",
       "      <td id=\"T_aae70_row4_col2\" class=\"data row4 col2\" >253</td>\n",
       "      <td id=\"T_aae70_row4_col3\" class=\"data row4 col3\" >253</td>\n",
       "      <td id=\"T_aae70_row4_col4\" class=\"data row4 col4\" >230</td>\n",
       "      <td id=\"T_aae70_row4_col5\" class=\"data row4 col5\" >48</td>\n",
       "      <td id=\"T_aae70_row4_col6\" class=\"data row4 col6\" >0</td>\n",
       "      <td id=\"T_aae70_row4_col7\" class=\"data row4 col7\" >0</td>\n",
       "      <td id=\"T_aae70_row4_col8\" class=\"data row4 col8\" >0</td>\n",
       "      <td id=\"T_aae70_row4_col9\" class=\"data row4 col9\" >0</td>\n",
       "      <td id=\"T_aae70_row4_col10\" class=\"data row4 col10\" >0</td>\n",
       "      <td id=\"T_aae70_row4_col11\" class=\"data row4 col11\" >192</td>\n",
       "      <td id=\"T_aae70_row4_col12\" class=\"data row4 col12\" >253</td>\n",
       "      <td id=\"T_aae70_row4_col13\" class=\"data row4 col13\" >253</td>\n",
       "      <td id=\"T_aae70_row4_col14\" class=\"data row4 col14\" >156</td>\n",
       "      <td id=\"T_aae70_row4_col15\" class=\"data row4 col15\" >0</td>\n",
       "      <td id=\"T_aae70_row4_col16\" class=\"data row4 col16\" >0</td>\n",
       "      <td id=\"T_aae70_row4_col17\" class=\"data row4 col17\" >0</td>\n",
       "    </tr>\n",
       "    <tr>\n",
       "      <th id=\"T_aae70_level0_row5\" class=\"row_heading level0 row5\" >5</th>\n",
       "      <td id=\"T_aae70_row5_col0\" class=\"data row5 col0\" >0</td>\n",
       "      <td id=\"T_aae70_row5_col1\" class=\"data row5 col1\" >3</td>\n",
       "      <td id=\"T_aae70_row5_col2\" class=\"data row5 col2\" >20</td>\n",
       "      <td id=\"T_aae70_row5_col3\" class=\"data row5 col3\" >20</td>\n",
       "      <td id=\"T_aae70_row5_col4\" class=\"data row5 col4\" >15</td>\n",
       "      <td id=\"T_aae70_row5_col5\" class=\"data row5 col5\" >0</td>\n",
       "      <td id=\"T_aae70_row5_col6\" class=\"data row5 col6\" >0</td>\n",
       "      <td id=\"T_aae70_row5_col7\" class=\"data row5 col7\" >0</td>\n",
       "      <td id=\"T_aae70_row5_col8\" class=\"data row5 col8\" >0</td>\n",
       "      <td id=\"T_aae70_row5_col9\" class=\"data row5 col9\" >0</td>\n",
       "      <td id=\"T_aae70_row5_col10\" class=\"data row5 col10\" >43</td>\n",
       "      <td id=\"T_aae70_row5_col11\" class=\"data row5 col11\" >224</td>\n",
       "      <td id=\"T_aae70_row5_col12\" class=\"data row5 col12\" >253</td>\n",
       "      <td id=\"T_aae70_row5_col13\" class=\"data row5 col13\" >245</td>\n",
       "      <td id=\"T_aae70_row5_col14\" class=\"data row5 col14\" >74</td>\n",
       "      <td id=\"T_aae70_row5_col15\" class=\"data row5 col15\" >0</td>\n",
       "      <td id=\"T_aae70_row5_col16\" class=\"data row5 col16\" >0</td>\n",
       "      <td id=\"T_aae70_row5_col17\" class=\"data row5 col17\" >0</td>\n",
       "    </tr>\n",
       "    <tr>\n",
       "      <th id=\"T_aae70_level0_row6\" class=\"row_heading level0 row6\" >6</th>\n",
       "      <td id=\"T_aae70_row6_col0\" class=\"data row6 col0\" >0</td>\n",
       "      <td id=\"T_aae70_row6_col1\" class=\"data row6 col1\" >0</td>\n",
       "      <td id=\"T_aae70_row6_col2\" class=\"data row6 col2\" >0</td>\n",
       "      <td id=\"T_aae70_row6_col3\" class=\"data row6 col3\" >0</td>\n",
       "      <td id=\"T_aae70_row6_col4\" class=\"data row6 col4\" >0</td>\n",
       "      <td id=\"T_aae70_row6_col5\" class=\"data row6 col5\" >0</td>\n",
       "      <td id=\"T_aae70_row6_col6\" class=\"data row6 col6\" >0</td>\n",
       "      <td id=\"T_aae70_row6_col7\" class=\"data row6 col7\" >0</td>\n",
       "      <td id=\"T_aae70_row6_col8\" class=\"data row6 col8\" >0</td>\n",
       "      <td id=\"T_aae70_row6_col9\" class=\"data row6 col9\" >0</td>\n",
       "      <td id=\"T_aae70_row6_col10\" class=\"data row6 col10\" >249</td>\n",
       "      <td id=\"T_aae70_row6_col11\" class=\"data row6 col11\" >253</td>\n",
       "      <td id=\"T_aae70_row6_col12\" class=\"data row6 col12\" >245</td>\n",
       "      <td id=\"T_aae70_row6_col13\" class=\"data row6 col13\" >126</td>\n",
       "      <td id=\"T_aae70_row6_col14\" class=\"data row6 col14\" >0</td>\n",
       "      <td id=\"T_aae70_row6_col15\" class=\"data row6 col15\" >0</td>\n",
       "      <td id=\"T_aae70_row6_col16\" class=\"data row6 col16\" >0</td>\n",
       "      <td id=\"T_aae70_row6_col17\" class=\"data row6 col17\" >0</td>\n",
       "    </tr>\n",
       "    <tr>\n",
       "      <th id=\"T_aae70_level0_row7\" class=\"row_heading level0 row7\" >7</th>\n",
       "      <td id=\"T_aae70_row7_col0\" class=\"data row7 col0\" >0</td>\n",
       "      <td id=\"T_aae70_row7_col1\" class=\"data row7 col1\" >0</td>\n",
       "      <td id=\"T_aae70_row7_col2\" class=\"data row7 col2\" >0</td>\n",
       "      <td id=\"T_aae70_row7_col3\" class=\"data row7 col3\" >0</td>\n",
       "      <td id=\"T_aae70_row7_col4\" class=\"data row7 col4\" >0</td>\n",
       "      <td id=\"T_aae70_row7_col5\" class=\"data row7 col5\" >0</td>\n",
       "      <td id=\"T_aae70_row7_col6\" class=\"data row7 col6\" >0</td>\n",
       "      <td id=\"T_aae70_row7_col7\" class=\"data row7 col7\" >14</td>\n",
       "      <td id=\"T_aae70_row7_col8\" class=\"data row7 col8\" >101</td>\n",
       "      <td id=\"T_aae70_row7_col9\" class=\"data row7 col9\" >223</td>\n",
       "      <td id=\"T_aae70_row7_col10\" class=\"data row7 col10\" >253</td>\n",
       "      <td id=\"T_aae70_row7_col11\" class=\"data row7 col11\" >248</td>\n",
       "      <td id=\"T_aae70_row7_col12\" class=\"data row7 col12\" >124</td>\n",
       "      <td id=\"T_aae70_row7_col13\" class=\"data row7 col13\" >0</td>\n",
       "      <td id=\"T_aae70_row7_col14\" class=\"data row7 col14\" >0</td>\n",
       "      <td id=\"T_aae70_row7_col15\" class=\"data row7 col15\" >0</td>\n",
       "      <td id=\"T_aae70_row7_col16\" class=\"data row7 col16\" >0</td>\n",
       "      <td id=\"T_aae70_row7_col17\" class=\"data row7 col17\" >0</td>\n",
       "    </tr>\n",
       "    <tr>\n",
       "      <th id=\"T_aae70_level0_row8\" class=\"row_heading level0 row8\" >8</th>\n",
       "      <td id=\"T_aae70_row8_col0\" class=\"data row8 col0\" >0</td>\n",
       "      <td id=\"T_aae70_row8_col1\" class=\"data row8 col1\" >0</td>\n",
       "      <td id=\"T_aae70_row8_col2\" class=\"data row8 col2\" >0</td>\n",
       "      <td id=\"T_aae70_row8_col3\" class=\"data row8 col3\" >0</td>\n",
       "      <td id=\"T_aae70_row8_col4\" class=\"data row8 col4\" >0</td>\n",
       "      <td id=\"T_aae70_row8_col5\" class=\"data row8 col5\" >11</td>\n",
       "      <td id=\"T_aae70_row8_col6\" class=\"data row8 col6\" >166</td>\n",
       "      <td id=\"T_aae70_row8_col7\" class=\"data row8 col7\" >239</td>\n",
       "      <td id=\"T_aae70_row8_col8\" class=\"data row8 col8\" >253</td>\n",
       "      <td id=\"T_aae70_row8_col9\" class=\"data row8 col9\" >253</td>\n",
       "      <td id=\"T_aae70_row8_col10\" class=\"data row8 col10\" >253</td>\n",
       "      <td id=\"T_aae70_row8_col11\" class=\"data row8 col11\" >187</td>\n",
       "      <td id=\"T_aae70_row8_col12\" class=\"data row8 col12\" >30</td>\n",
       "      <td id=\"T_aae70_row8_col13\" class=\"data row8 col13\" >0</td>\n",
       "      <td id=\"T_aae70_row8_col14\" class=\"data row8 col14\" >0</td>\n",
       "      <td id=\"T_aae70_row8_col15\" class=\"data row8 col15\" >0</td>\n",
       "      <td id=\"T_aae70_row8_col16\" class=\"data row8 col16\" >0</td>\n",
       "      <td id=\"T_aae70_row8_col17\" class=\"data row8 col17\" >0</td>\n",
       "    </tr>\n",
       "    <tr>\n",
       "      <th id=\"T_aae70_level0_row9\" class=\"row_heading level0 row9\" >9</th>\n",
       "      <td id=\"T_aae70_row9_col0\" class=\"data row9 col0\" >0</td>\n",
       "      <td id=\"T_aae70_row9_col1\" class=\"data row9 col1\" >0</td>\n",
       "      <td id=\"T_aae70_row9_col2\" class=\"data row9 col2\" >0</td>\n",
       "      <td id=\"T_aae70_row9_col3\" class=\"data row9 col3\" >0</td>\n",
       "      <td id=\"T_aae70_row9_col4\" class=\"data row9 col4\" >0</td>\n",
       "      <td id=\"T_aae70_row9_col5\" class=\"data row9 col5\" >16</td>\n",
       "      <td id=\"T_aae70_row9_col6\" class=\"data row9 col6\" >248</td>\n",
       "      <td id=\"T_aae70_row9_col7\" class=\"data row9 col7\" >250</td>\n",
       "      <td id=\"T_aae70_row9_col8\" class=\"data row9 col8\" >253</td>\n",
       "      <td id=\"T_aae70_row9_col9\" class=\"data row9 col9\" >253</td>\n",
       "      <td id=\"T_aae70_row9_col10\" class=\"data row9 col10\" >253</td>\n",
       "      <td id=\"T_aae70_row9_col11\" class=\"data row9 col11\" >253</td>\n",
       "      <td id=\"T_aae70_row9_col12\" class=\"data row9 col12\" >232</td>\n",
       "      <td id=\"T_aae70_row9_col13\" class=\"data row9 col13\" >213</td>\n",
       "      <td id=\"T_aae70_row9_col14\" class=\"data row9 col14\" >111</td>\n",
       "      <td id=\"T_aae70_row9_col15\" class=\"data row9 col15\" >2</td>\n",
       "      <td id=\"T_aae70_row9_col16\" class=\"data row9 col16\" >0</td>\n",
       "      <td id=\"T_aae70_row9_col17\" class=\"data row9 col17\" >0</td>\n",
       "    </tr>\n",
       "    <tr>\n",
       "      <th id=\"T_aae70_level0_row10\" class=\"row_heading level0 row10\" >10</th>\n",
       "      <td id=\"T_aae70_row10_col0\" class=\"data row10 col0\" >0</td>\n",
       "      <td id=\"T_aae70_row10_col1\" class=\"data row10 col1\" >0</td>\n",
       "      <td id=\"T_aae70_row10_col2\" class=\"data row10 col2\" >0</td>\n",
       "      <td id=\"T_aae70_row10_col3\" class=\"data row10 col3\" >0</td>\n",
       "      <td id=\"T_aae70_row10_col4\" class=\"data row10 col4\" >0</td>\n",
       "      <td id=\"T_aae70_row10_col5\" class=\"data row10 col5\" >0</td>\n",
       "      <td id=\"T_aae70_row10_col6\" class=\"data row10 col6\" >0</td>\n",
       "      <td id=\"T_aae70_row10_col7\" class=\"data row10 col7\" >43</td>\n",
       "      <td id=\"T_aae70_row10_col8\" class=\"data row10 col8\" >98</td>\n",
       "      <td id=\"T_aae70_row10_col9\" class=\"data row10 col9\" >98</td>\n",
       "      <td id=\"T_aae70_row10_col10\" class=\"data row10 col10\" >208</td>\n",
       "      <td id=\"T_aae70_row10_col11\" class=\"data row10 col11\" >253</td>\n",
       "      <td id=\"T_aae70_row10_col12\" class=\"data row10 col12\" >253</td>\n",
       "      <td id=\"T_aae70_row10_col13\" class=\"data row10 col13\" >253</td>\n",
       "      <td id=\"T_aae70_row10_col14\" class=\"data row10 col14\" >253</td>\n",
       "      <td id=\"T_aae70_row10_col15\" class=\"data row10 col15\" >187</td>\n",
       "      <td id=\"T_aae70_row10_col16\" class=\"data row10 col16\" >22</td>\n",
       "      <td id=\"T_aae70_row10_col17\" class=\"data row10 col17\" >0</td>\n",
       "    </tr>\n",
       "  </tbody>\n",
       "</table>\n"
      ],
      "text/plain": [
       "<pandas.io.formats.style.Styler at 0x7f76fca8bc10>"
      ]
     },
     "execution_count": 67,
     "metadata": {},
     "output_type": "execute_result"
    }
   ],
   "source": [
    "import pandas as pd\n",
    "\n",
    "im3_t = tensor(im3)\n",
    "df = pd.DataFrame(im3_t[4:15, 4:22])\n",
    "df.style.set_properties(**{'font-size':'6pt'}).background_gradient('Greys')"
   ]
  },
  {
   "cell_type": "code",
   "execution_count": 68,
   "id": "38684703",
   "metadata": {},
   "outputs": [
    {
     "name": "stdout",
     "output_type": "stream",
     "text": [
      "6131\n",
      "6265\n"
     ]
    },
    {
     "data": {
      "text/plain": [
       "<AxesSubplot:>"
      ]
     },
     "execution_count": 68,
     "metadata": {},
     "output_type": "execute_result"
    },
    {
     "data": {
      "image/png": "[encoded data removed]",
      "text/plain": [
       "<Figure size 72x72 with 1 Axes>"
      ]
     },
     "metadata": {
      "needs_background": "light"
     },
     "output_type": "display_data"
    }
   ],
   "source": [
    "seven_tensors = [tensor(Image.open(o)) for o in sevens]\n",
    "three_tensors = [tensor(Image.open(o)) for o in threes]\n",
    "\n",
    "print( len(three_tensors)  )\n",
    "print( len(seven_tensors)  )\n",
    "\n",
    "show_image(three_tensors[1])\n",
    "\n"
   ]
  },
  {
   "cell_type": "code",
   "execution_count": 69,
   "id": "20d5a2e2",
   "metadata": {},
   "outputs": [
    {
     "name": "stdout",
     "output_type": "stream",
     "text": [
      "torch.Size([6131, 28, 28])\n"
     ]
    }
   ],
   "source": [
    "## make all images in each list into 1 cube (i.e. a tensor of d=3)\n",
    "## type float and normalized\n",
    "\n",
    "stacked_sevens = torch.stack(   seven_tensors   ).float()/255\n",
    "stacked_threes = torch.stack(   three_tensors   ).float()/255\n",
    "\n",
    "print(  stacked_threes.shape  )\n"
   ]
  },
  {
   "cell_type": "code",
   "execution_count": 70,
   "id": "2624f5a9",
   "metadata": {},
   "outputs": [
    {
     "name": "stdout",
     "output_type": "stream",
     "text": [
      "3\n"
     ]
    }
   ],
   "source": [
    "## tensor rank (dimesionality of vector space)\n",
    "\n",
    "print(  stacked_threes.ndim   )"
   ]
  },
  {
   "cell_type": "code",
   "execution_count": 71,
   "id": "284a2d51",
   "metadata": {},
   "outputs": [
    {
     "data": {
      "image/png": "[encoded data removed]",
      "text/plain": [
       "<Figure size 72x72 with 1 Axes>"
      ]
     },
     "metadata": {
      "needs_background": "light"
     },
     "output_type": "display_data"
    },
    {
     "data": {
      "image/png": "[encoded data removed]",
      "text/plain": [
       "<Figure size 72x72 with 1 Axes>"
      ]
     },
     "metadata": {
      "needs_background": "light"
     },
     "output_type": "display_data"
    }
   ],
   "source": [
    "## Calculate the mean of all the image tensors\n",
    "## For every pixel position, this will compute the average of that pixel\n",
    "## over all images\n",
    "\n",
    "\n",
    "## insight: it is darker where all images match and blurry where images do not match\n",
    "\n",
    "mean3 = stacked_threes.mean(0)     ## 0 is on the zero axis \n",
    "show_image(mean3);\n",
    "\n",
    "mean7 = stacked_sevens.mean(0)     ## 0 is on the zero axis \n",
    "show_image(mean7);"
   ]
  },
  {
   "cell_type": "code",
   "execution_count": 72,
   "id": "88454602",
   "metadata": {},
   "outputs": [
    {
     "data": {
      "image/png": "[encoded data removed]",
      "text/plain": [
       "<Figure size 72x72 with 1 Axes>"
      ]
     },
     "metadata": {
      "needs_background": "light"
     },
     "output_type": "display_data"
    }
   ],
   "source": [
    "## Now we will measure the distance between one image and the mean of images for similarity \n",
    "\n",
    "## Get any image from the stack of images\n",
    "\n",
    "a_3 = stacked_threes[1]    ## slice one out\n",
    "show_image(a_3);"
   ]
  },
  {
   "cell_type": "code",
   "execution_count": 73,
   "id": "8293f84e",
   "metadata": {},
   "outputs": [
    {
     "name": "stdout",
     "output_type": "stream",
     "text": [
      "single 3 to mean 3\n",
      "tensor(0.1114)\n",
      "tensor(0.2021)\n",
      "**********************\n",
      "single 3 to mean 7\n",
      "tensor(0.1586)\n",
      "tensor(0.3021)\n"
     ]
    }
   ],
   "source": [
    "## calc L1-norm distance or CALC L2-norm (RMSE)\n",
    "\n",
    "dist_3_abs = (a_3 - mean3).abs().mean()\n",
    "dist_3_sqr = ((a_3 - mean3)**2).mean().sqrt()\n",
    "\n",
    "print(\"single 3 to mean 3\")\n",
    "print(dist_3_abs)\n",
    "print(dist_3_sqr)\n",
    "\n",
    "\n",
    "## not compare to the single 3 image to 7s mean\n",
    "\n",
    "dist_7_abs = (a_3 - mean7).abs().mean()\n",
    "dist_7_sqr = ((a_3 - mean7)**2).mean().sqrt()\n",
    "\n",
    "print('**********************')\n",
    "print(\"single 3 to mean 7\")\n",
    "print(dist_7_abs)\n",
    "print(dist_7_sqr)\n",
    "\n"
   ]
  },
  {
   "cell_type": "code",
   "execution_count": 74,
   "id": "fc6fd105",
   "metadata": {},
   "outputs": [
    {
     "name": "stdout",
     "output_type": "stream",
     "text": [
      "tensor(0.1586)\n",
      "tensor(0.3021)\n"
     ]
    }
   ],
   "source": [
    "## L1 and L2 are in torch \n",
    "## import torch.nn.functional as torch_f\n",
    "## or\n",
    "## fastai already has its own way of calling them\n",
    "\n",
    "print(   F.l1_loss( a_3.float(), mean7)   )\n",
    "print(   F.mse_loss(a_3, mean7).sqrt())"
   ]
  },
  {
   "cell_type": "code",
   "execution_count": 75,
   "id": "7fb21a76",
   "metadata": {},
   "outputs": [
    {
     "name": "stdout",
     "output_type": "stream",
     "text": [
      "[[1 2 3]\n",
      " [4 5 6]]\n",
      "tensor([[1, 2, 3],\n",
      "        [4, 5, 6]])\n"
     ]
    }
   ],
   "source": [
    "## Numpy Arrays and PyTorch tensors\n",
    "\n",
    "data = [[1, 2, 3], [4, 5, 6]]\n",
    "arr  = array(data)              ## fastai's way of incorporating numpy \n",
    "tns  = tensor(data)             ## fastai's way of incorporating torch\n",
    "\n",
    "print(arr)\n",
    "print(tns)"
   ]
  },
  {
   "cell_type": "code",
   "execution_count": 76,
   "id": "e1b677b2",
   "metadata": {},
   "outputs": [
    {
     "name": "stdout",
     "output_type": "stream",
     "text": [
      "tensor([4, 5, 6])\n",
      "tensor([2, 5])\n",
      "tensor([5, 6])\n",
      "tensor([[2, 3, 4],\n",
      "        [5, 6, 7]])\n",
      "torch.LongTensor\n",
      "tensor([[1.5000, 3.0000, 4.5000],\n",
      "        [6.0000, 7.5000, 9.0000]])\n"
     ]
    }
   ],
   "source": [
    "print(  tns[1]     )\n",
    "print(  tns[:, 1]  )\n",
    "print(  tns[1, 1:3])\n",
    "print(    tns+1     )\n",
    "print(    tns.type()     )\n",
    "print(    tns*1.5        )\n"
   ]
  },
  {
   "cell_type": "code",
   "execution_count": 77,
   "id": "3ae89e46",
   "metadata": {},
   "outputs": [
    {
     "name": "stdout",
     "output_type": "stream",
     "text": [
      "torch.Size([1010, 28, 28])\n",
      "torch.Size([1028, 28, 28])\n"
     ]
    }
   ],
   "source": [
    "## validation set, create torch tensor and normalize it for 3 and 7\n",
    "\n",
    "valid_3_tens = torch.stack(   [  tensor(Image.open(o))  for o in (path/'valid'/'3').ls()]   )\n",
    "valid_3_tens = valid_3_tens.float()/255\n",
    "\n",
    "valid_7_tens = torch.stack(   [  tensor(Image.open(o))  for o in (path/'valid'/'7').ls()]   )\n",
    "valid_7_tens = valid_7_tens.float()/255\n",
    "\n",
    "print(  valid_3_tens.shape  )\n",
    "print(  valid_7_tens.shape  )"
   ]
  },
  {
   "cell_type": "code",
   "execution_count": 78,
   "id": "f815d926",
   "metadata": {},
   "outputs": [
    {
     "name": "stdout",
     "output_type": "stream",
     "text": [
      "tensor(0.1114)\n"
     ]
    }
   ],
   "source": [
    "## function to get mean absolute error with the tensors \n",
    "## a-b  will use broadcasting when necessary \n",
    "## the (-1, -2) tells torch to calc mean only on the last 2 of the 3 axes (i.e. the 28x28 part )\n",
    "## we take the differences first, then abs, and then mean\n",
    "\n",
    "def mnist_distance(a, b):\n",
    "    return (a-b).abs().mean((-1, -2))\n",
    "\n",
    "print(    mnist_distance(a_3, mean3)    )"
   ]
  },
  {
   "cell_type": "code",
   "execution_count": 79,
   "id": "c7139451",
   "metadata": {},
   "outputs": [
    {
     "name": "stdout",
     "output_type": "stream",
     "text": [
      "tensor([0.1432, 0.1304, 0.1305,  ..., 0.1540, 0.1360, 0.1094])\n",
      "torch.Size([1010])\n"
     ]
    }
   ],
   "source": [
    "## now to calculate a metric for overall accuracy of a batch of images from the validation set (all 1010 at once)\n",
    "\n",
    "\n",
    "## gives tensor of distances\n",
    "\n",
    "valid_3_dist = mnist_distance(valid_3_tens, mean3)    \n",
    "print(  valid_3_dist            )\n",
    "print(  valid_3_dist.shape      )"
   ]
  },
  {
   "cell_type": "code",
   "execution_count": 80,
   "id": "3a15c354",
   "metadata": {},
   "outputs": [
    {
     "name": "stdout",
     "output_type": "stream",
     "text": [
      "tensor(True)\n",
      "tensor(1.)\n",
      "tensor([True, True, True,  ..., True, True, True])\n"
     ]
    }
   ],
   "source": [
    "def is_3(x):\n",
    "    return mnist_distance(x, mean3) < mnist_distance(x, mean7)\n",
    "\n",
    "\n",
    "print(    is_3(a_3)             )\n",
    "print(    is_3(a_3).float()     )\n",
    "\n",
    "print(    is_3(valid_3_tens)    )"
   ]
  },
  {
   "cell_type": "code",
   "execution_count": 81,
   "id": "1675afd1",
   "metadata": {},
   "outputs": [
    {
     "name": "stdout",
     "output_type": "stream",
     "text": [
      "tensor(0.9168)\n",
      "tensor(0.9854)\n",
      "tensor(0.9168)\n"
     ]
    }
   ],
   "source": [
    "## now calculate accuracy of this model\n",
    "\n",
    "accuracy_3s   =      is_3(valid_3_tens).float().mean()\n",
    "accuracy_7s   = (1 - is_3(valid_7_tens).float()).mean()\n",
    "\n",
    "\n",
    "print(   accuracy_3s       )\n",
    "print(   accuracy_7s       )\n",
    "print(   (accuracy_3s + accuracy_3s )/2       )"
   ]
  },
  {
   "cell_type": "code",
   "execution_count": 82,
   "id": "c4e1eb7a",
   "metadata": {},
   "outputs": [
    {
     "data": {
      "image/png": "[encoded data removed]",
      "text/plain": [
       "<Figure size 432x288 with 1 Axes>"
      ]
     },
     "metadata": {
      "needs_background": "light"
     },
     "output_type": "display_data"
    }
   ],
   "source": [
    "## the training process and stochastic gradient descent\n",
    "## THE PREVIOUS technique does not learn weights for a model\n",
    "## so now we look at gradient descent so we can learn weights\n",
    "\n",
    "## motivating SGD with the quadratic function\n",
    "\n",
    "\n",
    "from fastbook import *\n",
    "\n",
    "def f(w):\n",
    "    return w**2\n",
    "\n",
    "plot_function(f, 'w', 'cost determined by x**2')"
   ]
  },
  {
   "cell_type": "code",
   "execution_count": 83,
   "id": "ee9f0f84",
   "metadata": {},
   "outputs": [
    {
     "name": "stdout",
     "output_type": "stream",
     "text": [
      "notice the gradient association now of grad_fn\n",
      "tensor(9., grad_fn=<PowBackward0>)\n"
     ]
    }
   ],
   "source": [
    "## calculus\n",
    "## getting the derivatives (e.g. the gradients)\n",
    "## in deep learning, \"gradient\" usually means the value of a function's derivative at\n",
    "## a paticular argument value (the weight)\n",
    "## the focus is also on the variable (tensor(3.)), and not the function (e.g the cuadratic) \n",
    "## which is counter-intuitive\n",
    "\n",
    "def f(w):\n",
    "    return w**2\n",
    "\n",
    "xt = tensor(3.).requires_grad_()\n",
    "\n",
    "yt = f(xt)\n",
    "\n",
    "print(\"notice the gradient association now of grad_fn\")\n",
    "print(yt)"
   ]
  },
  {
   "cell_type": "code",
   "execution_count": 84,
   "id": "63f3f917",
   "metadata": {},
   "outputs": [
    {
     "name": "stdout",
     "output_type": "stream",
     "text": [
      "tensor(6.)\n"
     ]
    }
   ],
   "source": [
    "## now we tell pytorch to calc the gradients \n",
    "\n",
    "yt.backward()\n",
    "\n",
    "## to view the gradient\n",
    "\n",
    "print(  xt.grad    )\n",
    "\n",
    "## in math, the function is x**2\n",
    "## the derivative is   2x\n",
    "## the variable x = 3\n",
    "## the result is:   2x = 2(3) = 6"
   ]
  },
  {
   "cell_type": "code",
   "execution_count": 85,
   "id": "1f8a08b1",
   "metadata": {},
   "outputs": [
    {
     "name": "stdout",
     "output_type": "stream",
     "text": [
      "tensor([ 3.,  4., 10.], requires_grad=True)\n",
      "tensor(125., grad_fn=<SumBackward0>)\n",
      "tensor([ 6.,  8., 20.])\n"
     ]
    }
   ],
   "source": [
    "## now the same gradient scheme but with 3 weights instead of \n",
    "## just one, so a vector\n",
    "\n",
    "xt = tensor([3., 4., 10.]).requires_grad_()\n",
    "print(xt)\n",
    "\n",
    "def f(x):\n",
    "    return (x**2).sum()       ## sums all 3 values in vector\n",
    "\n",
    "yt = f(xt)\n",
    "print(    yt    )\n",
    "\n",
    "yt.backward()\n",
    "print(     xt.grad     )"
   ]
  },
  {
   "cell_type": "code",
   "execution_count": 86,
   "id": "a8a0dbc9",
   "metadata": {},
   "outputs": [],
   "source": [
    "## now we use xt.grad to adjust the weights\n",
    "## w = w - (xt.grad * learning_rate)\n",
    "\n"
   ]
  },
  {
   "cell_type": "code",
   "execution_count": 87,
   "id": "6b7d78a4",
   "metadata": {},
   "outputs": [
    {
     "name": "stdout",
     "output_type": "stream",
     "text": [
      "tensor([ 0.,  1.,  2.,  3.,  4.,  5.,  6.,  7.,  8.,  9., 10., 11., 12., 13., 14., 15., 16., 17., 18., 19.])\n"
     ]
    }
   ],
   "source": [
    "## a model of how the speed of a roller coaster changes over time\n",
    "## say, every 20 seconds\n",
    "\n",
    "time = torch.arange(0, 20).float()\n",
    "\n",
    "print(time)\n",
    "\n"
   ]
  },
  {
   "cell_type": "code",
   "execution_count": 88,
   "id": "de70dff8",
   "metadata": {},
   "outputs": [
    {
     "data": {
      "text/plain": [
       "<matplotlib.collections.PathCollection at 0x7f7706f84fd0>"
      ]
     },
     "execution_count": 88,
     "metadata": {},
     "output_type": "execute_result"
    },
    {
     "data": {
      "image/png": "[encoded data removed]",
      "text/plain": [
       "<Figure size 432x288 with 1 Axes>"
      ]
     },
     "metadata": {
      "needs_background": "light"
     },
     "output_type": "display_data"
    }
   ],
   "source": [
    "speed = torch.randn(20)*3 + 0.75*(time - 9.5)**2 + 1\n",
    "##         random_noise   +       quadratic func\n",
    "\n",
    "plt.scatter(time, speed)"
   ]
  },
  {
   "cell_type": "code",
   "execution_count": 89,
   "id": "1906f605",
   "metadata": {},
   "outputs": [],
   "source": [
    "## from the graph we now it is quadratic so we infer to just use that as a function\n",
    "## for our model\n",
    "\n",
    "def f(t, params):\n",
    "    a, b, c = params\n",
    "    return a*(t**2) + (b*t) + c\n",
    "\n",
    "## we are not letting a neural net figure out the function\n",
    "## instead we just pick a quadratic function, and we only need to learn the values a, b, c\n",
    "\n"
   ]
  },
  {
   "cell_type": "code",
   "execution_count": 90,
   "id": "2af5434b",
   "metadata": {},
   "outputs": [],
   "source": [
    "## Now define a loss function which compares pred to true and return a values of the cost. Lower is better\n",
    "## we can use MSE - > mean squared error\n",
    "\n",
    "def mse(preds, targets):\n",
    "    return ((preds-targets)**2).mean()\n"
   ]
  },
  {
   "cell_type": "code",
   "execution_count": 91,
   "id": "1271bd40",
   "metadata": {},
   "outputs": [],
   "source": [
    "## define params a, b, c\n",
    "## these are what we need to learn\n",
    "\n",
    "params = torch.randn(3).requires_grad_()\n",
    "\n",
    "## now the function to calc predictions\n",
    "\n",
    "preds = f(time, params)\n",
    "\n"
   ]
  },
  {
   "cell_type": "code",
   "execution_count": 92,
   "id": "5f82edab",
   "metadata": {},
   "outputs": [
    {
     "data": {
      "image/png": "[encoded data removed]",
      "text/plain": [
       "<Figure size 432x288 with 1 Axes>"
      ]
     },
     "metadata": {
      "needs_background": "light"
     },
     "output_type": "display_data"
    }
   ],
   "source": [
    "## now plot the pred which still has random parameters\n",
    "\n",
    "\n",
    "def show_preds(preds, ax=None):\n",
    "    if ax is None: ax=plt.subplots()[1]\n",
    "    ax.scatter(time, speed)\n",
    "    ax.scatter(time, to_np(preds), color='red')\n",
    "    ax.set_ylim(-300, 300)\n",
    "    \n",
    "show_preds(preds)"
   ]
  },
  {
   "cell_type": "code",
   "execution_count": 93,
   "id": "22dd1371",
   "metadata": {},
   "outputs": [
    {
     "name": "stdout",
     "output_type": "stream",
     "text": [
      "tensor(98142.1094, grad_fn=<MeanBackward0>)\n"
     ]
    }
   ],
   "source": [
    "## calculate the loss\n",
    "\n",
    "loss = mse(preds, speed)\n",
    "\n",
    "print(loss)"
   ]
  },
  {
   "cell_type": "code",
   "execution_count": 94,
   "id": "33d99e2f",
   "metadata": {},
   "outputs": [
    {
     "name": "stdout",
     "output_type": "stream",
     "text": [
      "tensor([104729.5312,   6728.4727,    442.6189])\n"
     ]
    }
   ],
   "source": [
    "## we want to minimize the loss\n",
    "\n",
    "## optimization with gradient descent is need here\n",
    "## and for that we need \"the gradients\" which are the derivatives\n",
    "## of the loss function for each parameter (e.g. the weights)\n",
    "\n",
    "loss.backward()\n",
    "\n",
    "print(params.grad)"
   ]
  },
  {
   "cell_type": "code",
   "execution_count": 95,
   "id": "033eb19c",
   "metadata": {},
   "outputs": [],
   "source": [
    "## now we need to update the parameters with a learning rate\n",
    "\n",
    "lr = 1e-5        ## 0.00001\n",
    "\n",
    "params.data = params.data - lr * params.grad.data\n",
    "params.grad = None    ## to calc the next set?\n",
    "\n"
   ]
  },
  {
   "cell_type": "code",
   "execution_count": 96,
   "id": "b977c270",
   "metadata": {},
   "outputs": [
    {
     "data": {
      "image/png": "[encoded data removed]",
      "text/plain": [
       "<Figure size 432x288 with 1 Axes>"
      ]
     },
     "metadata": {
      "needs_background": "light"
     },
     "output_type": "display_data"
    }
   ],
   "source": [
    "## let us see if the params improved\n",
    "\n",
    "preds = f(time, params)\n",
    "\n",
    "mse(preds, speed)\n",
    "\n",
    "show_preds(preds)\n",
    "\n"
   ]
  },
  {
   "cell_type": "code",
   "execution_count": 97,
   "id": "8ceeb0fc",
   "metadata": {},
   "outputs": [
    {
     "name": "stdout",
     "output_type": "stream",
     "text": [
      "19118.15625\n",
      "4164.4150390625\n",
      "1334.705810546875\n",
      "799.2354736328125\n",
      "697.9053955078125\n",
      "678.7276611328125\n",
      "675.095703125\n",
      "674.4055786132812\n",
      "674.2720947265625\n",
      "674.2438354492188\n"
     ]
    }
   ],
   "source": [
    "## now repeat several times \n",
    "\n",
    "def apply_step(params, prn=True):\n",
    "    preds = f(time, params)\n",
    "    loss = mse(preds, speed)\n",
    "    loss.backward()\n",
    "    params.data = params.data - lr * params.grad.data\n",
    "    params.grad = None\n",
    "    if prn:\n",
    "        print(loss.item())\n",
    "    return preds\n",
    "\n",
    "\n",
    "## the main loop\n",
    "\n",
    "for i in range(10):\n",
    "    apply_step(params)"
   ]
  },
  {
   "cell_type": "code",
   "execution_count": 98,
   "id": "76ed6749",
   "metadata": {},
   "outputs": [
    {
     "name": "stdout",
     "output_type": "stream",
     "text": [
      "674.2357177734375\n",
      "674.231201171875\n",
      "674.2273559570312\n",
      "674.2237548828125\n"
     ]
    },
    {
     "data": {
      "image/png": "[encoded data removed]",
      "text/plain": [
       "<Figure size 864x216 with 4 Axes>"
      ]
     },
     "metadata": {
      "needs_background": "light"
     },
     "output_type": "display_data"
    }
   ],
   "source": [
    "## plot it\n",
    "\n",
    "_, axs = plt.subplots(1, 4, figsize=(12, 3))\n",
    "\n",
    "for ax in axs:\n",
    "    show_preds(apply_step(params, True), ax)\n",
    "\n",
    "plt.tight_layout()"
   ]
  },
  {
   "cell_type": "code",
   "execution_count": 99,
   "id": "cb7d5f66",
   "metadata": {},
   "outputs": [
    {
     "name": "stdout",
     "output_type": "stream",
     "text": [
      "torch.Size([12396])\n",
      "torch.Size([12396, 1])\n",
      "torch.Size([12396, 784])\n"
     ]
    }
   ],
   "source": [
    "## the view method in PyTorch lets you reshape\n",
    "## make images from 2d (28x28) to 1d (784)\n",
    "\n",
    "train_x = torch.cat(   [stacked_threes, stacked_sevens]   ).view(-1, 28*28)\n",
    "\n",
    "## now the labels\n",
    "\n",
    "train_y = tensor([1]*len(threes) + [0]*len(sevens))\n",
    "print(train_y.shape)\n",
    "train_y = tensor([1]*len(threes) + [0]*len(sevens)).unsqueeze(1)  # unsqueeze to make column vector\n",
    "print(train_y.shape)\n",
    "print(train_x.shape)"
   ]
  },
  {
   "cell_type": "code",
   "execution_count": 100,
   "id": "cdacaf8b",
   "metadata": {},
   "outputs": [
    {
     "name": "stdout",
     "output_type": "stream",
     "text": [
      "torch.Size([784])\n",
      "tensor([1])\n",
      "torch.Size([1])\n"
     ]
    }
   ],
   "source": [
    "## PyTorch requires a dataset to be a tuple (x, y)\n",
    "## we do it like this\n",
    "\n",
    "dset = list(     zip(train_x, train_y)      )\n",
    "\n",
    "x, y = dset[0]\n",
    "\n",
    "print(  x.shape  )\n",
    "print(  y  )\n",
    "print(  y.shape   )\n",
    "\n"
   ]
  },
  {
   "cell_type": "code",
   "execution_count": 101,
   "id": "63559b25",
   "metadata": {},
   "outputs": [],
   "source": [
    "## now the validation set\n",
    "\n",
    "valid_x = torch.cat([valid_3_tens, valid_7_tens]).view(-1, 28*28)\n",
    "valid_y = tensor([1]*len(valid_3_tens) + [0]*len(valid_7_tens)).unsqueeze(1)\n",
    "valid_dset = list(zip(valid_x, valid_y))\n",
    "\n"
   ]
  },
  {
   "cell_type": "code",
   "execution_count": 102,
   "id": "4d435003",
   "metadata": {},
   "outputs": [
    {
     "name": "stdout",
     "output_type": "stream",
     "text": [
      "tensor([2.3345], grad_fn=<AddBackward0>)\n"
     ]
    }
   ],
   "source": [
    "## now we need weights for every single of the 784 pixels\n",
    "## we initialize these\n",
    "\n",
    "def init_params(size, std=1.0):\n",
    "    return (torch.randn(size)*std).requires_grad_()\n",
    "\n",
    "\n",
    "weights = init_params((28*28, 1))          ## shape (784, 1)\n",
    "\n",
    "\n",
    "## also the bias y = wx + b\n",
    "\n",
    "bias = init_params(1)                      ## shape (1)\n",
    "\n",
    "## predict value for one image using random params\n",
    "\n",
    "y_temp = (train_x[0] * weights.T).sum() + bias\n",
    "print(  y_temp  )"
   ]
  },
  {
   "cell_type": "code",
   "execution_count": 103,
   "id": "ca00ea13",
   "metadata": {},
   "outputs": [
    {
     "name": "stdout",
     "output_type": "stream",
     "text": [
      "tensor([[ 2.3345],\n",
      "        [17.5651],\n",
      "        [ 3.2925],\n",
      "        ...,\n",
      "        [-2.2805],\n",
      "        [-3.2090],\n",
      "        [-3.0192]], grad_fn=<AddBackward0>)\n"
     ]
    }
   ],
   "source": [
    "## matrix multp\n",
    "\n",
    "def linear1(xb):\n",
    "    return xb@weights + bias\n",
    "\n",
    "\n",
    "preds = linear1(train_x)\n",
    "\n",
    "print(preds)"
   ]
  },
  {
   "cell_type": "code",
   "execution_count": 104,
   "id": "72178fe6",
   "metadata": {},
   "outputs": [
    {
     "name": "stdout",
     "output_type": "stream",
     "text": [
      "tensor([[True],\n",
      "        [True],\n",
      "        [True],\n",
      "        ...,\n",
      "        [True],\n",
      "        [True],\n",
      "        [True]])\n",
      "0.6477895975112915\n"
     ]
    }
   ],
   "source": [
    "corrects = (preds>0.0).float() == train_y\n",
    "\n",
    "print(corrects)\n",
    "\n",
    "r = corrects.float().mean().item()\n",
    "\n",
    "print(r)"
   ]
  },
  {
   "cell_type": "code",
   "execution_count": 105,
   "id": "99144902",
   "metadata": {},
   "outputs": [],
   "source": [
    "## the torch.where(a, b, c) function measures how distant each prediction is from 1 if it should be 1, and \n",
    "## how distant it is from 0 if it should be 0, and then it will take the mean of all those distances\n",
    "\n",
    "\n",
    "def mnist_loss(predictions, targets):\n",
    "    return torch.where(targets==1, 1-predictions, predictions).mean()\n",
    "\n",
    "\n"
   ]
  },
  {
   "cell_type": "code",
   "execution_count": 106,
   "id": "f62777a2",
   "metadata": {},
   "outputs": [],
   "source": [
    "## the sigmoid to make predictions between 0 and 1\n",
    "\n",
    "def sigmoid(x):\n",
    "    return 1/(1+torch.exp(-x))\n",
    "\n",
    "## or torch.sigmoid\n"
   ]
  },
  {
   "cell_type": "code",
   "execution_count": 107,
   "id": "8d1c05ad",
   "metadata": {},
   "outputs": [
    {
     "data": {
      "image/png": "[encoded data removed]",
      "text/plain": [
       "<Figure size 432x288 with 1 Axes>"
      ]
     },
     "metadata": {
      "needs_background": "light"
     },
     "output_type": "display_data"
    }
   ],
   "source": [
    "## to view it\n",
    "\n",
    "plot_function(torch.sigmoid, title='sigmoid', min=-4, max=4)"
   ]
  },
  {
   "cell_type": "code",
   "execution_count": 108,
   "id": "ecd42fcf",
   "metadata": {},
   "outputs": [],
   "source": [
    "## update mnist loss with the sigmoid\n",
    "\n",
    "\n",
    "def mnist_loss(predictions, targets):\n",
    "    predictions = predictions.sigmoid()\n",
    "    return torch.where(  targets==1, 1-predictions, predictions   ).mean()\n",
    "\n"
   ]
  },
  {
   "cell_type": "code",
   "execution_count": 109,
   "id": "f3754dee",
   "metadata": {},
   "outputs": [
    {
     "name": "stdout",
     "output_type": "stream",
     "text": [
      "0.5072 0.5199 0.5477 0.6119 0.7213 0.7842 0.8119 0.8266 0.8462 0.8589 0.8706 0.881 0.8884 0.8963 0.9002 0.9046 0.9099 0.9139 0.9163 0.9203 "
     ]
    }
   ],
   "source": [
    "## putting it all together for mnist\n",
    "\n",
    "train_x = torch.cat(   [stacked_threes, stacked_sevens]   ).view(-1, 28*28)\n",
    "train_y = tensor([1]*len(threes) + [0]*len(sevens)).unsqueeze(1)  # unsqueeze to make column vector\n",
    "dset = list(     zip(train_x, train_y)      )\n",
    "\n",
    "###########################\n",
    "\n",
    "valid_x = torch.cat([valid_3_tens, valid_7_tens]).view(-1, 28*28)\n",
    "valid_y = tensor([1]*len(valid_3_tens) + [0]*len(valid_7_tens)).unsqueeze(1)\n",
    "valid_dset = list(zip(valid_x, valid_y))\n",
    "\n",
    "############################\n",
    "\n",
    "dl = DataLoader(dset, batch_size=256)\n",
    "\n",
    "############################\n",
    "\n",
    "valid_dl = DataLoader(valid_dset, batch_size=256)\n",
    "\n",
    "############################\n",
    "\n",
    "def init_params(size, std=1.0):\n",
    "    return (torch.randn(size)*std).requires_grad_()\n",
    "\n",
    "##############################\n",
    "\n",
    "weights = init_params((28*28, 1))\n",
    "bias    = init_params(1)\n",
    "\n",
    "params = weights, bias\n",
    "\n",
    "############################\n",
    "\n",
    "def linear1(xb):\n",
    "    return xb@weights + bias\n",
    "\n",
    "############################\n",
    "\n",
    "def mnist_loss(predictions, targets):\n",
    "    predictions = predictions.sigmoid()\n",
    "    return torch.where(  targets==1, 1-predictions, predictions   ).mean()\n",
    "\n",
    "###########################\n",
    "\n",
    "def calc_grad(xb, yb, model):\n",
    "    preds = model(xb)\n",
    "    loss  = mnist_loss(preds, yb)\n",
    "    loss.backward()\n",
    "    \n",
    "##########################    \n",
    "    \n",
    "def train_epoch(model, lr, params):\n",
    "    for xb, yb in dl:\n",
    "        calc_grad(xb, yb, model)\n",
    "        for p in params:\n",
    "            p.data -= p.grad*lr\n",
    "            p.grad.zero_()                ## delete the old ones or they are added up!!\n",
    "            \n",
    "##########################\n",
    "            \n",
    "def batch_accuracy(xb, yb):\n",
    "    preds = xb.sigmoid()\n",
    "    correct = (preds>0.5) == yb\n",
    "    return correct.float().mean()\n",
    "\n",
    "##########################\n",
    "\n",
    "def validate_epoch(model):\n",
    "    accs = [batch_accuracy(model(xb), yb) for xb, yb in valid_dl]\n",
    "    return round(   torch.stack(accs).mean().item(),  4   )\n",
    "\n",
    "##########################\n",
    "\n",
    "lr = 0.1\n",
    "\n",
    "for i in range(20):\n",
    "    train_epoch(linear1, lr, params)\n",
    "    print(   validate_epoch(linear1),    end=' '   )\n",
    "\n"
   ]
  },
  {
   "cell_type": "code",
   "execution_count": 110,
   "id": "143ee12a",
   "metadata": {},
   "outputs": [
    {
     "data": {
      "text/html": [
       "<table border=\"1\" class=\"dataframe\">\n",
       "  <thead>\n",
       "    <tr style=\"text-align: left;\">\n",
       "      <th>epoch</th>\n",
       "      <th>train_loss</th>\n",
       "      <th>valid_loss</th>\n",
       "      <th>batch_accuracy</th>\n",
       "      <th>time</th>\n",
       "    </tr>\n",
       "  </thead>\n",
       "  <tbody>\n",
       "    <tr>\n",
       "      <td>0</td>\n",
       "      <td>0.305043</td>\n",
       "      <td>0.418557</td>\n",
       "      <td>0.504907</td>\n",
       "      <td>00:00</td>\n",
       "    </tr>\n",
       "    <tr>\n",
       "      <td>1</td>\n",
       "      <td>0.144376</td>\n",
       "      <td>0.232174</td>\n",
       "      <td>0.798822</td>\n",
       "      <td>00:00</td>\n",
       "    </tr>\n",
       "    <tr>\n",
       "      <td>2</td>\n",
       "      <td>0.080429</td>\n",
       "      <td>0.117245</td>\n",
       "      <td>0.912659</td>\n",
       "      <td>00:00</td>\n",
       "    </tr>\n",
       "    <tr>\n",
       "      <td>3</td>\n",
       "      <td>0.053196</td>\n",
       "      <td>0.078993</td>\n",
       "      <td>0.939647</td>\n",
       "      <td>00:00</td>\n",
       "    </tr>\n",
       "    <tr>\n",
       "      <td>4</td>\n",
       "      <td>0.040527</td>\n",
       "      <td>0.061562</td>\n",
       "      <td>0.955348</td>\n",
       "      <td>00:00</td>\n",
       "    </tr>\n",
       "    <tr>\n",
       "      <td>5</td>\n",
       "      <td>0.034015</td>\n",
       "      <td>0.051819</td>\n",
       "      <td>0.962709</td>\n",
       "      <td>00:00</td>\n",
       "    </tr>\n",
       "    <tr>\n",
       "      <td>6</td>\n",
       "      <td>0.030244</td>\n",
       "      <td>0.045691</td>\n",
       "      <td>0.964671</td>\n",
       "      <td>00:00</td>\n",
       "    </tr>\n",
       "    <tr>\n",
       "      <td>7</td>\n",
       "      <td>0.027777</td>\n",
       "      <td>0.041493</td>\n",
       "      <td>0.966634</td>\n",
       "      <td>00:00</td>\n",
       "    </tr>\n",
       "    <tr>\n",
       "      <td>8</td>\n",
       "      <td>0.025993</td>\n",
       "      <td>0.038426</td>\n",
       "      <td>0.968106</td>\n",
       "      <td>00:00</td>\n",
       "    </tr>\n",
       "    <tr>\n",
       "      <td>9</td>\n",
       "      <td>0.024610</td>\n",
       "      <td>0.036073</td>\n",
       "      <td>0.968106</td>\n",
       "      <td>00:00</td>\n",
       "    </tr>\n",
       "    <tr>\n",
       "      <td>10</td>\n",
       "      <td>0.023490</td>\n",
       "      <td>0.034201</td>\n",
       "      <td>0.970559</td>\n",
       "      <td>00:00</td>\n",
       "    </tr>\n",
       "    <tr>\n",
       "      <td>11</td>\n",
       "      <td>0.022556</td>\n",
       "      <td>0.032668</td>\n",
       "      <td>0.972031</td>\n",
       "      <td>00:00</td>\n",
       "    </tr>\n",
       "    <tr>\n",
       "      <td>12</td>\n",
       "      <td>0.021761</td>\n",
       "      <td>0.031382</td>\n",
       "      <td>0.973503</td>\n",
       "      <td>00:00</td>\n",
       "    </tr>\n",
       "    <tr>\n",
       "      <td>13</td>\n",
       "      <td>0.021074</td>\n",
       "      <td>0.030279</td>\n",
       "      <td>0.974485</td>\n",
       "      <td>00:00</td>\n",
       "    </tr>\n",
       "    <tr>\n",
       "      <td>14</td>\n",
       "      <td>0.020473</td>\n",
       "      <td>0.029318</td>\n",
       "      <td>0.975466</td>\n",
       "      <td>00:00</td>\n",
       "    </tr>\n",
       "    <tr>\n",
       "      <td>15</td>\n",
       "      <td>0.019940</td>\n",
       "      <td>0.028470</td>\n",
       "      <td>0.975466</td>\n",
       "      <td>00:00</td>\n",
       "    </tr>\n",
       "    <tr>\n",
       "      <td>16</td>\n",
       "      <td>0.019463</td>\n",
       "      <td>0.027714</td>\n",
       "      <td>0.976938</td>\n",
       "      <td>00:00</td>\n",
       "    </tr>\n",
       "    <tr>\n",
       "      <td>17</td>\n",
       "      <td>0.019033</td>\n",
       "      <td>0.027034</td>\n",
       "      <td>0.977920</td>\n",
       "      <td>00:00</td>\n",
       "    </tr>\n",
       "    <tr>\n",
       "      <td>18</td>\n",
       "      <td>0.018643</td>\n",
       "      <td>0.026419</td>\n",
       "      <td>0.978410</td>\n",
       "      <td>00:00</td>\n",
       "    </tr>\n",
       "    <tr>\n",
       "      <td>19</td>\n",
       "      <td>0.018284</td>\n",
       "      <td>0.025860</td>\n",
       "      <td>0.978410</td>\n",
       "      <td>00:00</td>\n",
       "    </tr>\n",
       "    <tr>\n",
       "      <td>20</td>\n",
       "      <td>0.017955</td>\n",
       "      <td>0.025350</td>\n",
       "      <td>0.978901</td>\n",
       "      <td>00:00</td>\n",
       "    </tr>\n",
       "    <tr>\n",
       "      <td>21</td>\n",
       "      <td>0.017650</td>\n",
       "      <td>0.024884</td>\n",
       "      <td>0.980373</td>\n",
       "      <td>00:00</td>\n",
       "    </tr>\n",
       "    <tr>\n",
       "      <td>22</td>\n",
       "      <td>0.017366</td>\n",
       "      <td>0.024455</td>\n",
       "      <td>0.980373</td>\n",
       "      <td>00:00</td>\n",
       "    </tr>\n",
       "    <tr>\n",
       "      <td>23</td>\n",
       "      <td>0.017101</td>\n",
       "      <td>0.024060</td>\n",
       "      <td>0.981354</td>\n",
       "      <td>00:00</td>\n",
       "    </tr>\n",
       "    <tr>\n",
       "      <td>24</td>\n",
       "      <td>0.016853</td>\n",
       "      <td>0.023696</td>\n",
       "      <td>0.981354</td>\n",
       "      <td>00:00</td>\n",
       "    </tr>\n",
       "    <tr>\n",
       "      <td>25</td>\n",
       "      <td>0.016619</td>\n",
       "      <td>0.023359</td>\n",
       "      <td>0.981354</td>\n",
       "      <td>00:00</td>\n",
       "    </tr>\n",
       "    <tr>\n",
       "      <td>26</td>\n",
       "      <td>0.016399</td>\n",
       "      <td>0.023046</td>\n",
       "      <td>0.981845</td>\n",
       "      <td>00:00</td>\n",
       "    </tr>\n",
       "    <tr>\n",
       "      <td>27</td>\n",
       "      <td>0.016191</td>\n",
       "      <td>0.022755</td>\n",
       "      <td>0.981845</td>\n",
       "      <td>00:00</td>\n",
       "    </tr>\n",
       "    <tr>\n",
       "      <td>28</td>\n",
       "      <td>0.015993</td>\n",
       "      <td>0.022485</td>\n",
       "      <td>0.981354</td>\n",
       "      <td>00:00</td>\n",
       "    </tr>\n",
       "    <tr>\n",
       "      <td>29</td>\n",
       "      <td>0.015806</td>\n",
       "      <td>0.022233</td>\n",
       "      <td>0.981845</td>\n",
       "      <td>00:00</td>\n",
       "    </tr>\n",
       "    <tr>\n",
       "      <td>30</td>\n",
       "      <td>0.015627</td>\n",
       "      <td>0.021998</td>\n",
       "      <td>0.982336</td>\n",
       "      <td>00:00</td>\n",
       "    </tr>\n",
       "    <tr>\n",
       "      <td>31</td>\n",
       "      <td>0.015457</td>\n",
       "      <td>0.021777</td>\n",
       "      <td>0.982826</td>\n",
       "      <td>00:00</td>\n",
       "    </tr>\n",
       "    <tr>\n",
       "      <td>32</td>\n",
       "      <td>0.015295</td>\n",
       "      <td>0.021571</td>\n",
       "      <td>0.982826</td>\n",
       "      <td>00:00</td>\n",
       "    </tr>\n",
       "    <tr>\n",
       "      <td>33</td>\n",
       "      <td>0.015140</td>\n",
       "      <td>0.021378</td>\n",
       "      <td>0.982826</td>\n",
       "      <td>00:00</td>\n",
       "    </tr>\n",
       "    <tr>\n",
       "      <td>34</td>\n",
       "      <td>0.014991</td>\n",
       "      <td>0.021196</td>\n",
       "      <td>0.982826</td>\n",
       "      <td>00:00</td>\n",
       "    </tr>\n",
       "    <tr>\n",
       "      <td>35</td>\n",
       "      <td>0.014849</td>\n",
       "      <td>0.021024</td>\n",
       "      <td>0.982826</td>\n",
       "      <td>00:00</td>\n",
       "    </tr>\n",
       "    <tr>\n",
       "      <td>36</td>\n",
       "      <td>0.014713</td>\n",
       "      <td>0.020862</td>\n",
       "      <td>0.982826</td>\n",
       "      <td>00:00</td>\n",
       "    </tr>\n",
       "    <tr>\n",
       "      <td>37</td>\n",
       "      <td>0.014581</td>\n",
       "      <td>0.020709</td>\n",
       "      <td>0.982826</td>\n",
       "      <td>00:00</td>\n",
       "    </tr>\n",
       "    <tr>\n",
       "      <td>38</td>\n",
       "      <td>0.014454</td>\n",
       "      <td>0.020564</td>\n",
       "      <td>0.982826</td>\n",
       "      <td>00:00</td>\n",
       "    </tr>\n",
       "    <tr>\n",
       "      <td>39</td>\n",
       "      <td>0.014333</td>\n",
       "      <td>0.020427</td>\n",
       "      <td>0.982826</td>\n",
       "      <td>00:00</td>\n",
       "    </tr>\n",
       "  </tbody>\n",
       "</table>"
      ],
      "text/plain": [
       "<IPython.core.display.HTML object>"
      ]
     },
     "metadata": {},
     "output_type": "display_data"
    }
   ],
   "source": [
    "## a fastai approach\n",
    "\n",
    "\n",
    "train_x = torch.cat(   [stacked_threes, stacked_sevens]   ).view(-1, 28*28)\n",
    "train_y = tensor([1]*len(threes) + [0]*len(sevens)).unsqueeze(1)  # unsqueeze to make column vector\n",
    "dset = list(     zip(train_x, train_y)      )\n",
    "\n",
    "###########################\n",
    "\n",
    "valid_x = torch.cat([valid_3_tens, valid_7_tens]).view(-1, 28*28)\n",
    "valid_y = tensor([1]*len(valid_3_tens) + [0]*len(valid_7_tens)).unsqueeze(1)\n",
    "valid_dset = list(zip(valid_x, valid_y))\n",
    "\n",
    "############################\n",
    "\n",
    "dl = DataLoader(dset, batch_size=256)\n",
    "\n",
    "############################\n",
    "\n",
    "valid_dl = DataLoader(valid_dset, batch_size=256)\n",
    "\n",
    "############################\n",
    "\n",
    "dls = DataLoaders(dl, valid_dl)\n",
    "\n",
    "############################\n",
    "\n",
    "def mnist_loss(predictions, targets):\n",
    "    predictions = predictions.sigmoid()\n",
    "    return torch.where(  targets==1, 1-predictions, predictions   ).mean()\n",
    "\n",
    "\n",
    "##########################\n",
    "            \n",
    "def batch_accuracy(xb, yb):\n",
    "    preds = xb.sigmoid()\n",
    "    correct = (preds > 0.5) == yb\n",
    "    return correct.float().mean()\n",
    "\n",
    "\n",
    "####################################\n",
    "    \n",
    "linear_model = nn.Linear(28*28, 1)\n",
    "\n",
    "simple_net = nn.Sequential(\n",
    "       nn.Linear(28*28, 30),\n",
    "       nn.ReLU(),\n",
    "       nn.Linear(30, 1)\n",
    ")\n",
    "\n",
    "\n",
    "#learn = Learner(dls, linear_model, opt_func=SGD, loss_func=mnist_loss, metrics=batch_accuracy)\n",
    "#learn.fit(10, lr=0.1)\n",
    "\n",
    "learn = Learner(dls, simple_net, opt_func=SGD, loss_func=mnist_loss, metrics=batch_accuracy)\n",
    "learn.fit(40, lr=0.1)\n",
    "\n"
   ]
  },
  {
   "cell_type": "code",
   "execution_count": 111,
   "id": "bba039e5",
   "metadata": {},
   "outputs": [
    {
     "data": {
      "image/png": "[encoded data removed]",
      "text/plain": [
       "<Figure size 432x288 with 1 Axes>"
      ]
     },
     "metadata": {
      "needs_background": "light"
     },
     "output_type": "display_data"
    }
   ],
   "source": [
    "plt.plot(   L(learn.recorder.values).itemgot(2)   );"
   ]
  },
  {
   "cell_type": "code",
   "execution_count": 112,
   "id": "19f890ed",
   "metadata": {},
   "outputs": [],
   "source": [
    "## HW: build several NN architectures and train and test\n",
    "\n"
   ]
  },
  {
   "cell_type": "code",
   "execution_count": 113,
   "id": "89889fea",
   "metadata": {},
   "outputs": [
    {
     "data": {
      "text/html": [
       "<table border=\"1\" class=\"dataframe\">\n",
       "  <thead>\n",
       "    <tr style=\"text-align: left;\">\n",
       "      <th>epoch</th>\n",
       "      <th>train_loss</th>\n",
       "      <th>valid_loss</th>\n",
       "      <th>accuracy</th>\n",
       "      <th>time</th>\n",
       "    </tr>\n",
       "  </thead>\n",
       "  <tbody>\n",
       "    <tr>\n",
       "      <td>0</td>\n",
       "      <td>0.109702</td>\n",
       "      <td>0.018199</td>\n",
       "      <td>0.996565</td>\n",
       "      <td>00:05</td>\n",
       "    </tr>\n",
       "  </tbody>\n",
       "</table>"
      ],
      "text/plain": [
       "<IPython.core.display.HTML object>"
      ]
     },
     "metadata": {},
     "output_type": "display_data"
    }
   ],
   "source": [
    "## or instead of all of the previous, just do this :)\n",
    "\n",
    "## an 18 layer model with resnet\n",
    "\n",
    "## as it turns out more layers with smaller matrices (parameters), is better than fewer layers but larger \n",
    "## matrices (parameters), fastai book page 180\n",
    "\n",
    "dls = ImageDataLoaders.from_folder(path)\n",
    "\n",
    "learn = cnn_learner(dls, resnet18, pretrained=False, \n",
    "                    loss_func=F.cross_entropy, metrics=accuracy)\n",
    "\n",
    "\n",
    "lr = 0.1\n",
    "learn.fit_one_cycle(1, lr)"
   ]
  },
  {
   "cell_type": "code",
   "execution_count": 114,
   "id": "a860d165",
   "metadata": {},
   "outputs": [],
   "source": [
    "## rank-0   -->   scalar\n",
    "## rank-1   -->   vector\n",
    "## rank-2   -->   matrix"
   ]
  },
  {
   "cell_type": "code",
   "execution_count": null,
   "id": "40b787c1",
   "metadata": {},
   "outputs": [],
   "source": []
  }
 ],
 "metadata": {
  "kernelspec": {
   "display_name": "Python 3 (ipykernel)",
   "language": "python",
   "name": "python3"
  },
  "language_info": {
   "codemirror_mode": {
    "name": "ipython",
    "version": 3
   },
   "file_extension": ".py",
   "mimetype": "text/x-python",
   "name": "python",
   "nbconvert_exporter": "python",
   "pygments_lexer": "ipython3",
   "version": "3.7.11"
  }
 },
 "nbformat": 4,
 "nbformat_minor": 5
}
